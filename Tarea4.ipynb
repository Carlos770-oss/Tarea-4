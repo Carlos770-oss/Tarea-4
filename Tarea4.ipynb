{
 "cells": [
  {
   "cell_type": "code",
   "execution_count": 8,
   "id": "e9765a7e-7dd9-4055-92c5-91d6b08f5774",
   "metadata": {},
   "outputs": [
    {
     "name": "stdout",
     "output_type": "stream",
     "text": [
      "Estimación de a: 0.6850894242073734\n",
      "Estimación de b: 0.023532255907166517\n"
     ]
    }
   ],
   "source": [
    "import numpy as np\n",
    "from scipy.optimize import curve_fit\n",
    "from scipy.integrate import quad\n",
    "\n",
    "x = np.array([3.8058516, 4.19437519, 1.37709166, 0.77009889, 5.20968912,\n",
    "              0.65358179, 3.9701773, 2.07495512, 3.02571317, 3.1321825,\n",
    "              3.10005197, 4.94755324, 2.26160675, 0.59817735, 1.19183984,\n",
    "              1.37467926, -0.61701765, 5.01024433, 3.13300185, 5.2957513,\n",
    "              5.49070323, -1.13532482, -0.34934039, 5.72120588, 1.23276086,\n",
    "              4.33202401, 4.00250539, -0.40665993, 1.05709082, 3.68821387,\n",
    "              1.12295318, 2.10739471, 0.53197551, -0.27389039, 1.48139076,\n",
    "              0.70014346, 2.31649553, 2.44322569, 3.86141784, 2.04558533,\n",
    "              2.98230541, 3.69456416, 2.35192256, 0.11488102, 1.24948211,\n",
    "              2.34006925, 1.45962495, -0.09042347, -0.05130358, 1.15963357,\n",
    "              0.56871108, 2.70715761, 2.47673624, 1.70400014, 1.60709535,\n",
    "              -0.40534576, 3.07910114, 0.80967033, 5.04007949, 0.11755631,\n",
    "              1.427098, -0.07170736, 5.11381387, 3.54324208, 4.39654794,\n",
    "              0.10687046, 2.89288521, 4.23476606, 1.54499074, 2.68598353,\n",
    "              -1.02087514, 1.9960533, 5.24364406, 3.2185187, -0.38242978,\n",
    "              3.49462381, 1.06077727, -0.02623431, 3.92295454, 1.48746264,\n",
    "              2.74412523, -0.29060423, 3.915251, 3.13072888, 3.78471126,\n",
    "              -0.26904523, 0.66725871, 2.75931047, 2.09460576, 1.15288733,\n",
    "              3.08004069, 2.51581013, 1.88470954, 3.18040196, 0.85962888,\n",
    "              -0.2126045, 3.2505909, 2.7800464, 1.41144019, 2.71715232])\n",
    "\n",
    "\"\"\"\n",
    "Dado el desconocimiento de los parámetros, la constante de normalización se calcula como integral para ponderar su peso \"desconocido\"\n",
    "\"\"\"\n",
    "\n",
    "# Modelo considerando a C para \"normalizar\" la funcion de densidad y que f sea efectivamente una distribucion\n",
    "def distribucion(x, a, b):\n",
    "    integral, _ = quad(lambda t: 1 + np.cos((t - b) / a), -np.pi, np.pi)\n",
    "    C = 2 * np.pi / integral #Constante de normalización\n",
    "    return C / (2 * np.pi) * (1 + np.cos((x - b) / a))\n",
    "\n",
    "# Ajuste de los parámetros usando curve_fit\n",
    "iniciales = [0.5, 1.0]  \n",
    "params, param_cov = curve_fit(distribucion, x, np.ones_like(x), iniciales)\n",
    "\n",
    "# Resultados del ajuste\n",
    "a, b = params\n",
    "print(f\"Estimación de a: {a}\")\n",
    "print(f\"Estimación de b: {b}\")\n"
   ]
  },
  {
   "cell_type": "code",
   "execution_count": 12,
   "id": "4aeb3891-e40a-4b46-b4dd-6ca71093fa55",
   "metadata": {},
   "outputs": [
    {
     "name": "stdout",
     "output_type": "stream",
     "text": [
      "Intervalo de confianza del 95% para a: [np.float64(0.6699968753500807), np.float64(0.7001819730646661)]\n",
      "Intervalo de confianza del 95% para b: [np.float64(-0.0747503885601021), np.float64(0.12181490037443515)]\n"
     ]
    }
   ],
   "source": [
    "# Calcular intervalos de confianza del 95%\n",
    "alpha = 0.05  \n",
    "n = len(x)    # número de datos\n",
    "dof = max(0, n - 2)  # grados de libertad\n",
    "\n",
    "t_val = t.ppf(1 - alpha / 2, dof)\n",
    "param_errors = np.sqrt(np.diag(covariance))\n",
    "ci_a = [a - t_val * param_errors[0], a + t_val * param_errors[0]]\n",
    "ci_b = [b - t_val * param_errors[1], b + t_val * param_errors[1]]\n",
    "\n",
    "print(f\"Intervalo de confianza del 95% para a: {ci_a}\")\n",
    "print(f\"Intervalo de confianza del 95% para b: {ci_b}\")"
   ]
  },
  {
   "cell_type": "markdown",
   "id": "2c102474-240a-4b88-b4ab-a8e2edfcc21c",
   "metadata": {},
   "source": [
    "Ejercicio 2"
   ]
  },
  {
   "cell_type": "code",
   "execution_count": 2,
   "id": "0617c688-04bc-4ddc-9188-9a6a2ba12ec1",
   "metadata": {},
   "outputs": [
    {
     "name": "stdout",
     "output_type": "stream",
     "text": [
      "Promedio muestral (estimación de mu): 2.1342042433999997\n",
      "Intervalo de confianza del 95% para mu: [1.795202751766069, 2.4732057350339307]\n"
     ]
    }
   ],
   "source": [
    "import numpy as np\n",
    "from scipy.stats import t\n",
    "\n",
    "# Datos de la muestra\n",
    "x = np.array([3.8058516, 4.19437519, 1.37709166, 0.77009889, 5.20968912,\n",
    "              0.65358179, 3.9701773, 2.07495512, 3.02571317, 3.1321825,\n",
    "              3.10005197, 4.94755324, 2.26160675, 0.59817735, 1.19183984,\n",
    "              1.37467926, -0.61701765, 5.01024433, 3.13300185, 5.2957513,\n",
    "              5.49070323, -1.13532482, -0.34934039, 5.72120588, 1.23276086,\n",
    "              4.33202401, 4.00250539, -0.40665993, 1.05709082, 3.68821387,\n",
    "              1.12295318, 2.10739471, 0.53197551, -0.27389039, 1.48139076,\n",
    "              0.70014346, 2.31649553, 2.44322569, 3.86141784, 2.04558533,\n",
    "              2.98230541, 3.69456416, 2.35192256, 0.11488102, 1.24948211,\n",
    "              2.34006925, 1.45962495, -0.09042347, -0.05130358, 1.15963357,\n",
    "              0.56871108, 2.70715761, 2.47673624, 1.70400014, 1.60709535,\n",
    "              -0.40534576, 3.07910114, 0.80967033, 5.04007949, 0.11755631,\n",
    "              1.427098, -0.07170736, 5.11381387, 3.54324208, 4.39654794,\n",
    "              0.10687046, 2.89288521, 4.23476606, 1.54499074, 2.68598353,\n",
    "              -1.02087514, 1.9960533, 5.24364406, 3.2185187, -0.38242978,\n",
    "              3.49462381, 1.06077727, -0.02623431, 3.92295454, 1.48746264,\n",
    "              2.74412523, -0.29060423, 3.915251, 3.13072888, 3.78471126,\n",
    "              -0.26904523, 0.66725871, 2.75931047, 2.09460576, 1.15288733,\n",
    "              3.08004069, 2.51581013, 1.88470954, 3.18040196, 0.85962888,\n",
    "              -0.2126045, 3.2505909, 2.7800464, 1.41144019, 2.71715232])\n",
    "\n",
    "# Tamaño de la muestra\n",
    "n = len(x)\n",
    "\n",
    "# Promedio muestral\n",
    "mean_x = np.mean(x)\n",
    "\n",
    "# Desviación estándar muestral\n",
    "std_x = np.std(x, ddof=1)\n",
    "\n",
    "# Error estándar de la media\n",
    "std_error = std_x / np.sqrt(n)\n",
    "\n",
    "# Valor crítico de t para un intervalo de confianza del 95% y n - 1 grados de libertad\n",
    "alpha = 0.05\n",
    "t_val = t.ppf(1 - alpha / 2, n - 1)\n",
    "\n",
    "# Intervalo de confianza\n",
    "ci_lower = mean_x - t_val * std_error\n",
    "ci_upper = mean_x + t_val * std_error\n",
    "\n",
    "print(f\"Promedio muestral (estimación de mu): {mean_x}\")\n",
    "print(f\"Intervalo de confianza del 95% para mu: [{ci_lower}, {ci_upper}]\")\n"
   ]
  },
  {
   "cell_type": "markdown",
   "id": "8e9f29e2-4e52-4744-9b31-28aef1f494c5",
   "metadata": {},
   "source": [
    "#Ejercicio 3"
   ]
  },
  {
   "cell_type": "code",
   "execution_count": 4,
   "id": "5624e6bc-1fc1-411c-84e4-17a2785608e7",
   "metadata": {},
   "outputs": [
    {
     "name": "stdout",
     "output_type": "stream",
     "text": [
      "Intervalo de confianza del 95%: (np.float64(0.7213759396977253), np.float64(11.692514949055884))\n"
     ]
    }
   ],
   "source": [
    "import scipy.stats as stats\n",
    "\n",
    "# Datos\n",
    "s1_squ = 0.273  # Varianza muestral del primer proveedor\n",
    "s2_squ = 0.094  # Varianza muestral del segundo proveedor\n",
    "n1 = n2 = 10        # Tamaño de los proveedores\n",
    "\n",
    "ratio_var = s1_squ / s2_squa\n",
    "\n",
    "# Nivel de confianza y grados de libertad\n",
    "alpha = 0.05\n",
    "df1 = n1 - 1  # grados de libertad para el numerador\n",
    "df2 = n2 - 1  # grados de libertad para el denominador\n",
    "\n",
    "# Valores críticos de F para los límites inferior y superior\n",
    "f_inf = stats.f.ppf(alpha / 2, df1, df2)\n",
    "f_sup = stats.f.ppf(1 - alpha / 2, df1, df2)\n",
    "\n",
    "# Intervalo de confianza para la razón de varianzas\n",
    "inf = ratio_var / f_upper\n",
    "sup = ratio_var / f_lower\n",
    "print(\"Intervalo de confianza del 95%:\", (inf, sup))\n"
   ]
  },
  {
   "cell_type": "markdown",
   "id": "e2ae8732-5229-4617-968e-4d7730bb5695",
   "metadata": {},
   "source": [
    "#Ejercicio 4"
   ]
  },
  {
   "cell_type": "code",
   "execution_count": 5,
   "id": "8061ab5b-c03d-4185-b2a7-b4afc71b36d2",
   "metadata": {},
   "outputs": [
    {
     "name": "stdout",
     "output_type": "stream",
     "text": [
      "Intervalo de confianza del 95%: (0.6246349332007343, 0.7151241029438441)\n"
     ]
    }
   ],
   "source": [
    "import math\n",
    "\n",
    "# Datos\n",
    "x = 278  # Número de ejecutivos que consideran el flujo de caja como el indicador más importante\n",
    "n = 415  # Tamaño de la muestra\n",
    "z = 1.96 # Valor crítico para un intervalo de confianza del 95%\n",
    "\n",
    "# Proporción muestral\n",
    "p_hat = x / n\n",
    "\n",
    "# Error estándar\n",
    "standard_error = math.sqrt((p_hat * (1 - p_hat)) / n)\n",
    "\n",
    "# Intervalo de confianza\n",
    "inf = p_hat - z * standard_error\n",
    "sup = p_hat + z * standard_error\n",
    "\n",
    "print(\"Intervalo de confianza del 95%:\", (inf, sup))\n"
   ]
  },
  {
   "cell_type": "markdown",
   "id": "3963dfe8-a082-4d71-96b9-9f6f2319f692",
   "metadata": {},
   "source": [
    "#Ejercicio 5\n",
    "\n",
    "Para resolver este ejercicio definimos la variable aleatoria Y que representa la cantidad de caras que se obtienen a través de dos tiradas, de aquí que hayan 3 valores posibles para: 0,1 y 2"
   ]
  },
  {
   "cell_type": "code",
   "execution_count": 8,
   "id": "0bda85c2-e15f-4ad3-bd67-ee1ef5c029cb",
   "metadata": {},
   "outputs": [
    {
     "name": "stdout",
     "output_type": "stream",
     "text": [
      "Para p = 0.25:\n",
      "  P(Y = 0) = 0.5625\n",
      "  P(Y = 1) = 0.375\n",
      "  P(Y = 2) = 0.0625\n",
      "Para p = 0.75:\n",
      "  P(Y = 0) = 0.0625\n",
      "  P(Y = 1) = 0.375\n",
      "  P(Y = 2) = 0.5625\n",
      "En conclusión, el valor que maximiza la probabilidad de obtener Y=y depende del valor de y\n",
      " Para Y=0, p = 1/4 maximiza la probabilidad de obtener este resultado\n",
      " Para Y= 1, es indiferente si usamos p = 1/4 o p = 3/4 \n",
      " Para Y=2, es p =3/4 el valor que maximiza la probabilidad\n"
     ]
    }
   ],
   "source": [
    "from scipy.special import comb\n",
    "\n",
    "# Probabilidades de la moneda sesgada\n",
    "probs = [1/4, 3/4]\n",
    "\n",
    "# Posibles valores de y\n",
    "Y_valor = [0, 1, 2]\n",
    "\n",
    "# Diccionario con probabilidades de cada combinación de probabilidad respecto al valor de la V.A. \"Y\"\n",
    "probabilidades = {}\n",
    "for p in probs:\n",
    "    probabilidades[p] = []  \n",
    "    for y in Y_valor:\n",
    "        # La variable aleatoria \"Y\", de hecho, tiene una distribución binomial\n",
    "        prob = comb(2, y) * (p ** y) * ((1 - p) ** (2 - y))\n",
    "        probabilidades[p].append(prob)\n",
    "\n",
    "# Mostrar las probabilidades\n",
    "for p, probs in probabilidades.items():\n",
    "    print(f\"Para p = {p}:\")\n",
    "    for y, prob in zip(Y_valor, probs):\n",
    "        print(f\"  P(Y = {y}) = {prob}\")\n",
    "print(\"En conclusión, el valor que maximiza la probabilidad de obtener Y=y depende del valor de y\\n Para Y=0, p = 1/4 maximiza la probabilidad de obtener este resultado\\n Para Y= 1, es indiferente si usamos p = 1/4 o p = 3/4 \\n Para Y=2, es p =3/4 el valor que maximiza la probabilidad\")"
   ]
  },
  {
   "cell_type": "markdown",
   "id": "85957bd5-c698-4fae-b439-1c4b8e0ac19d",
   "metadata": {},
   "source": [
    "#Ejercicio 6"
   ]
  },
  {
   "cell_type": "code",
   "execution_count": 9,
   "id": "17bd2e3e-a516-4e1c-b0e9-36100dcb46a8",
   "metadata": {},
   "outputs": [
    {
     "name": "stdout",
     "output_type": "stream",
     "text": [
      "Estadístico t calculado: 2.23606797749979\n",
      "Valor crítico t: ±2.10092204024096\n",
      "Rechazamos la hipótesis nula: Existe una diferencia significativa entre las medias.\n"
     ]
    }
   ],
   "source": [
    "import scipy.stats as stats\n",
    "import math\n",
    "\n",
    "n1, sum_xi_sq, x_bar1 = 10, 36950, 60\n",
    "n2, sum_yi_sq, y_bar2 = 10, 25850, 50\n",
    "alpha = 0.05\n",
    "\n",
    "s_p_sq = ((sum_xi_sq - n1 * x_bar1**2) + (sum_yi_sq - n2 * y_bar2**2)) / (n1 + n2 - 2)\n",
    "s_p = math.sqrt(s_p_sq)\n",
    "\n",
    "# Estadístico de prueba\n",
    "t_calculado = (x_bar1 - y_bar2) / (s_p * math.sqrt(1/n1 + 1/n2))\n",
    "\n",
    "# Grados de libertad\n",
    "df = n1 + n2 - 2\n",
    "\n",
    "# Valor crítico t \n",
    "t_critico = stats.t.ppf(1 - alpha/2, df)\n",
    "\n",
    "print(f\"Estadístico t calculado: {t_calculado}\")\n",
    "print(f\"Valor crítico t: ±{t_critico}\")\n",
    "\n",
    "print(\"Como el estadístico de prueba es mayor que el valor crítico, rechazamos la hipótesis nula: Existe una diferencia significativa entre las medias.\")\n",
    "\n"
   ]
  },
  {
   "cell_type": "markdown",
   "id": "d262e63b-3726-489e-a707-de72f36c519c",
   "metadata": {},
   "source": [
    "#Ejercicio 7"
   ]
  },
  {
   "cell_type": "code",
   "execution_count": 10,
   "id": "363a5bfd-4d86-4935-a7bb-00eb3f8e02f3",
   "metadata": {},
   "outputs": [
    {
     "name": "stdout",
     "output_type": "stream",
     "text": [
      "Estadístico t: -2.657\n",
      "Valor p: 0.021\n",
      "Se rechaza la hipotesis nula, existe evidencia suficiente para concluir que hay una diferencia significativa entre las medias\n",
      "Intervalo de confianza: (-7.59, -1.50)\n"
     ]
    }
   ],
   "source": [
    "import numpy as np\n",
    "from scipy.stats import ttest_ind, t\n",
    "\n",
    "tipo_a = np.array([72, 78, 73, 69, 75, 74, 69, 75])\n",
    "tipo_b = np.array([78, 76, 81, 74, 82, 75])\n",
    "\n",
    "#Prueba t\n",
    "t_stat, p_value = ttest_ind(tipo_a, tipo_b, equal_var=True)\n",
    "\n",
    "#Intervalo\n",
    "n_a, n_b = len(tipo_a), len(tipo_b)\n",
    "media_A, media_B = np.mean(tipo_a), np.mean(tipo_b)\n",
    "var_a, var_b = np.var(tipo_a, ddof=1), np.var(tipo_b, ddof=1)\n",
    "Sp = np.sqrt(((n_a - 1) * var_a + (n_b - 1) * var_b) / (n_a + n_b - 2))\n",
    "var = Sp * np.sqrt(1 / n_a + 1 / n_b)\n",
    "\n",
    "# Grados de libertad\n",
    "df = n_a + n_b - 2\n",
    "\n",
    "# Valor crítico para el intervalo de confianza del 90%\n",
    "t_crit = t.ppf(0.95, df)\n",
    "\n",
    "# Límite inferior y superior del intervalo\n",
    "inf = (media_A - media_B) - t_crit * var\n",
    "sup = (media_A - media_B) + t_crit * var\n",
    "\n",
    "\n",
    "print(f\"Estadístico t: {t_stat:.3f}\")\n",
    "print(f\"Valor p: {p_value:.3f}\")\n",
    "print(\"Se rechaza la hipotesis nula, existe evidencia suficiente para concluir que hay una diferencia significativa entre las medias\")\n",
    "print(f\"Intervalo de confianza: ({inf:.2f}, {sup:.2f})\")\n",
    "\n",
    "\n"
   ]
  },
  {
   "cell_type": "markdown",
   "id": "fb5b1149-e450-49ae-9eb4-e177f42f87b5",
   "metadata": {},
   "source": [
    "#Ejercicio 8"
   ]
  },
  {
   "cell_type": "code",
   "execution_count": 14,
   "id": "918747f5-f772-49d5-891b-8082e1643cff",
   "metadata": {},
   "outputs": [
    {
     "name": "stdout",
     "output_type": "stream",
     "text": [
      "Estadistico de prueba: 9.564131954889964\n",
      "t estadístico: 1.74588367627624\n",
      "Rechazamos la hipótesis nula: existe una diferencia significativa entre las medias.\n"
     ]
    }
   ],
   "source": [
    "import numpy as np\n",
    "from scipy.stats import t\n",
    "\n",
    "material_A = np.array([1.25, 1.16, 1.33, 1.15, 1.23, 1.20, 1.32, 1.28, 1.21])\n",
    "material_B = np.array([0.89, 1.01, 0.97, 0.95, 0.94, 1.02, 0.98, 1.06, 0.98])\n",
    "\n",
    "media_A = np.mean(material_A)\n",
    "media_B = np.mean(material_B)\n",
    "\n",
    "var_A = np.var(material_A, ddof=1)\n",
    "var_B = np.var(material_B, ddof=1)\n",
    "\n",
    "n_A = 9\n",
    "n_B = 9\n",
    "\n",
    "S_p = ((n_A - 1) * var_A + (n_B - 1) * var_B) / (n_A + n_B - 2)\n",
    "est_prue = (media_A - media_B) / np.sqrt(S_p * (1/n_A + 1/n_B))\n",
    "\n",
    "alpha = 0.10\n",
    "dof = n_A + n_B - 2\n",
    "\n",
    "t_est = t.ppf(1 - alpha/2, dof)\n",
    "\n",
    "\n",
    "print(\"Estadistico de prueba:\", est_prue)\n",
    "print(\"t estadístico:\", t_est)\n",
    "\n",
    "print(\"Rechazamos la hipótesis nula: existe una diferencia significativa entre las medias.\")\n"
   ]
  },
  {
   "cell_type": "markdown",
   "id": "38b91c4b-1114-41eb-a85f-c1bf85ed1ae1",
   "metadata": {},
   "source": [
    "#Ejercicio 9"
   ]
  },
  {
   "cell_type": "code",
   "execution_count": 2,
   "id": "e810f977-be85-4071-98e9-3b3883174e48",
   "metadata": {},
   "outputs": [
    {
     "name": "stdout",
     "output_type": "stream",
     "text": [
      "Coeficiente de correlación (r): 0.8914018631719386\n",
      "Estadístico t: 4.817770069955905\n",
      "Valor crítico de t para α = 0.05: 2.4469118511449692\n",
      "Rechazamos la hipótesis nula: hay suficiente evidencia para afirmar que el nivel de octanaje y las millas por galón son dependientes.\n"
     ]
    }
   ],
   "source": [
    "import numpy as np\n",
    "from scipy.stats import t\n",
    "\n",
    "octa = np.array([89, 93, 87, 90, 89, 95, 100, 98])\n",
    "mpg = np.array([13.0, 13.2, 13.0, 13.6, 13.3, 13.8, 14.1, 14.0])\n",
    "n = len(octa)\n",
    "r = np.corrcoef(octa, mpg)[0, 1]\n",
    "\n",
    "t_stat = r * np.sqrt(n - 2) / np.sqrt(1 - r**2)\n",
    "\n",
    "# Nivel de significancia\n",
    "alpha = 0.05\n",
    "\n",
    "t_crit = t.ppf(1 - alpha / 2, n - 2)\n",
    "\n",
    "print(\"Coeficiente de correlación (r):\", r)\n",
    "print(\"Estadístico t:\", t_stat)\n",
    "print(\"Valor crítico de t para α = 0.05:\", t_crit)\n",
    "print(\"Rechazamos la hipótesis nula: hay suficiente evidencia para afirmar que el nivel de octanaje y las millas por galón son dependientes.\")\n"
   ]
  },
  {
   "cell_type": "markdown",
   "id": "76a7c6bf-246d-4ee2-879c-99e917463291",
   "metadata": {},
   "source": [
    "Ejercicio 10"
   ]
  },
  {
   "cell_type": "code",
   "execution_count": 4,
   "id": "7962eca1-c056-481e-98b2-1d1088021bcf",
   "metadata": {},
   "outputs": [
    {
     "name": "stdout",
     "output_type": "stream",
     "text": [
      "El modelo ajustado es: y = 20.33 + 0.0333*Presión + -0.0225*Temperatura + 0.0001*Temperatura^2\n",
      "\n",
      "Prueba para el término cuadrático de la temperatura (beta3):\n",
      "Coeficiente beta3: 0.0001, valor p: 0.1780\n",
      "El término cuadrático de la temperatura no afecta significativamente el rendimiento a un nivel de 0.05.\n",
      "\n",
      "Prueba t para el efecto de la temperatura (beta2):\n",
      "valor p: 0.4592\n",
      "La temperatura no afecta significativamente el rendimiento (no rechazamos H0) EN ESTE MODELO a un nuvel de .05 (No consideramos termino cuadratico en la prueba pues ya lo habiamos descartado)\n"
     ]
    }
   ],
   "source": [
    "import pandas as pd\n",
    "import statsmodels.api as sm\n",
    "\n",
    "data = {\n",
    "    \"Rendimiento\": [21, 23, 26, 22, 23, 28],\n",
    "    \"Presión\": [50, 50, 50, 80, 80, 80],\n",
    "    \"Temperatura\": [100, 200, 300, 100, 200, 300],\n",
    "}\n",
    "\n",
    "df = pd.DataFrame(data)\n",
    "\n",
    "df[\"Temperatura^2\"] = df[\"Temperatura\"] ** 2\n",
    "\n",
    "X = df[[\"Presión\", \"Temperatura\", \"Temperatura^2\"]]\n",
    "X = sm.add_constant(X)  \n",
    "y = df[\"Rendimiento\"]\n",
    "\n",
    "# Ajustar el modelo \n",
    "model = sm.OLS(y, X).fit()\n",
    "\n",
    "beta0 = model.params[\"const\"]\n",
    "beta1 = model.params[\"Presión\"]\n",
    "beta2 = model.params[\"Temperatura\"]\n",
    "beta3 = model.params[\"Temperatura^2\"]\n",
    "\n",
    "print(f\"El modelo ajustado es: y = {beta0:.2f} + {beta1:.4f}*Presión + {beta2:.4f}*Temperatura + {beta3:.4f}*Temperatura^2\")\n",
    "\n",
    "# Prueba para beta3 \n",
    "p_value_beta3 = model.pvalues[\"Temperatura^2\"]\n",
    "print(f\"\\nPrueba para el término cuadrático de la temperatura (beta3):\")\n",
    "print(f\"Coeficiente beta3: {beta3:.4f}, valor p: {p_value_beta3:.4f}\")\n",
    "print(\"El término cuadrático de la temperatura no afecta significativamente el rendimiento a un nivel de 0.05.\")\n",
    "\n",
    "\n",
    "p_value_beta2 = model.pvalues[\"Temperatura\"]\n",
    "\n",
    "print(f\"\\nPrueba t para el efecto de la temperatura (beta2):\")\n",
    "print(f\"valor p: {p_value_beta2:.4f}\")\n",
    "print(\"La temperatura no afecta significativamente el rendimiento (no rechazamos H0) EN ESTE MODELO a un nuvel de .05 (No consideramos termino cuadratico en la prueba pues ya lo habiamos descartado)\")"
   ]
  },
  {
   "cell_type": "markdown",
   "id": "6c147131-c779-416f-988f-b7deceb4fc3a",
   "metadata": {},
   "source": [
    "Ejercicio 11"
   ]
  },
  {
   "cell_type": "code",
   "execution_count": 21,
   "id": "40e8c539-5a61-402f-bc45-81cbbcddaef9",
   "metadata": {},
   "outputs": [
    {
     "name": "stdout",
     "output_type": "stream",
     "text": [
      "Coeficientes estimados (betas): [11.8  -2.46  1.01 -0.41]\n"
     ]
    },
    {
     "data": {
      "image/png": "[encoded data removed]",
      "text/plain": [
       "<Figure size 640x480 with 1 Axes>"
      ]
     },
     "metadata": {},
     "output_type": "display_data"
    },
    {
     "name": "stdout",
     "output_type": "stream",
     "text": [
      "Predicción para Bacteria A en x2=0: 9.339999999999998\n",
      "Predicción para Bacteria B en x2=0: 11.800000000000004\n",
      "Coeficiente de interacción (β3): -0.4099999999999966\n",
      "P-valor del coeficiente de interacción: 0.03924040998017242 Por lo tanto, se rechaza la hipotesis nula y B_3 es distinto de 0\n",
      "Hay evidencia suficiente (p = 0.000) para concluir que los porcentajes de crecimiento (B_1)son significativamente diferentes entre las bacterias.\n",
      "\n",
      "Dado que el termino de interacion B_3 y el termino de crecimiento relacionado a tipo de bacteria B_1 son significativamente distintos de 0, se concluye que los porcentajes de crecimiento sí varían según el tipo de Bacteria al nivel de 0.05\n"
     ]
    }
   ],
   "source": [
    "import numpy as np\n",
    "import pandas as pd\n",
    "import statsmodels.api as sm\n",
    "import matplotlib.pyplot as plt\n",
    "\n",
    "tiempo = np.array([-2, -1, 0, 1, 2])\n",
    "bacteria_a = np.array([8.0, 9.0, 9.1, 10.2, 10.4])\n",
    "bacteria_b = np.array([10.0, 10.3, 12.2, 12.6, 13.9])\n",
    "\n",
    "# Crear variables para el modelo, las analizaremos \"de manera conjuntaa\"\n",
    "x1 = np.concatenate((np.ones_like(tiempo), np.zeros_like(tiempo)))  # 1 para bacteria A, 0 para bacteria B\n",
    "x2 = np.concatenate((tiempo, tiempo))  # Tiempo para ambas variables\n",
    "x1_x2 = x1 * x2  # Interacción\n",
    "y = np.concatenate((bacteria_a, bacteria_b))  # Respuesta\n",
    "#matriz X\n",
    "X = np.column_stack((np.ones_like(y), x1, x2, x1_x2))\n",
    "model = sm.OLS(y, X).fit()\n",
    "\n",
    "\n",
    "# Graficar \n",
    "plt.scatter(tiempo, bacteria_a, label='Bacteria A', color='blue')\n",
    "plt.scatter(tiempo, bacteria_b, label='Bacteria B', color='red')\n",
    "print(\"Coeficientes estimados (betas):\", model.params)\n",
    "tiempo_full = np.linspace(min(tiempo), max(tiempo), 100)\n",
    "X_a = np.column_stack((np.ones_like(tiempo_full), np.ones_like(tiempo_full), tiempo_full, tiempo_full))\n",
    "X_b = np.column_stack((np.ones_like(tiempo_full), np.zeros_like(tiempo_full), tiempo_full, np.zeros_like(tiempo_full)))\n",
    "y_a_pred = model.predict(X_a)\n",
    "y_b_pred = model.predict(X_b)\n",
    "\n",
    "plt.plot(tiempo_full, y_a_pred, color='blue', label='Recta Ajustada A')\n",
    "plt.plot(tiempo_full, y_b_pred, color='red', label='Recta Ajustada B')\n",
    "\n",
    "plt.xlabel('Tiempo codificado')\n",
    "plt.ylabel('Porcentaje de crecimiento')\n",
    "plt.legend()\n",
    "plt.show()\n",
    "\n",
    "pred_a = model.predict([1, 1, 0, 0])\n",
    "pred_b = model.predict([1, 0, 0, 0])\n",
    "print(f\"Predicción para Bacteria A en x2=0: {pred_a[0]}\")\n",
    "print(f\"Predicción para Bacteria B en x2=0: {pred_b[0]}\")\n",
    "\n",
    "\n",
    "print(\"Coeficiente de interacción (β3):\", model.params[3])\n",
    "print(\"P-valor del coeficiente de interacción:\", model.pvalues[3], \"Por lo tanto, se rechaza la hipotesis nula y B_3 es distinto de 0\")\n",
    "# Coeficiente B1 y su p-valor\n",
    "b1 = model.params[1]\n",
    "p_valor_b1 = model.pvalues[1]\n",
    "\n",
    "print(f\"Hay evidencia suficiente (p = {p_valor_b1:.3f}) para concluir que los porcentajes de crecimiento (B_1)son significativamente diferentes entre las bacterias.\")\n",
    "print(\"\\nDado que el termino de interacion B_3 y el termino de crecimiento relacionado a tipo de bacteria B_1 son significativamente distintos de 0, se concluye que los porcentajes de crecimiento sí varían según el tipo de Bacteria al nivel de 0.05\")"
   ]
  },
  {
   "cell_type": "markdown",
   "id": "01109b6f-12ad-4be4-98d7-cbab53a4a55b",
   "metadata": {},
   "source": [
    "Ejercicio 12 "
   ]
  },
  {
   "cell_type": "code",
   "execution_count": 7,
   "id": "5aaa1cac-3036-40af-9d81-e8461a25a5d9",
   "metadata": {},
   "outputs": [
    {
     "name": "stdout",
     "output_type": "stream",
     "text": [
      "     Grupo  Datos\n",
      "0  Grupo A    5.8\n",
      "1  Grupo A    3.1\n",
      "2  Grupo A    7.2\n",
      "3  Grupo A    2.6\n",
      "4  Grupo A    6.7\n",
      "\n",
      "Resultado de ANOVA:\n",
      "Estadístico F: 0.017511360676141122\n",
      "Valor p: 0.8973476766572029\n",
      "No se encontraron diferencias significativas entre los dos grupos.\n"
     ]
    }
   ],
   "source": [
    "import pandas as pd\n",
    "import scipy.stats as stats\n",
    "import seaborn as sns\n",
    "import matplotlib.pyplot as plt\n",
    "\n",
    "data = pd.read_csv(\"datos.csv\")\n",
    "print(data.head())\n",
    "\n",
    "grupo_a = data[data['Grupo'] == 'Grupo A']['Datos']\n",
    "grupo_b = data[data['Grupo'] == 'Grupo B']['Datos']\n",
    "\n",
    "# Realizar la prueba ANOVA\n",
    "anova = stats.f_oneway(grupo_a, grupo_b)\n",
    "\n",
    "print(\"\\nResultado de ANOVA:\")\n",
    "print(\"Estadístico F:\", anova.statistic)\n",
    "print(\"Valor p:\", anova.pvalue)\n",
    "\n",
    "print(\"No se encontraron diferencias significativas entre los dos grupos.\")\n"
   ]
  },
  {
   "cell_type": "markdown",
   "id": "8ec8d66f-705b-4b12-9eae-b114230200ac",
   "metadata": {},
   "source": [
    "Ejercicio 13"
   ]
  },
  {
   "cell_type": "code",
   "execution_count": 5,
   "id": "0e72b50e-4f18-454f-9ab7-98df3f19bde8",
   "metadata": {},
   "outputs": [
    {
     "name": "stdout",
     "output_type": "stream",
     "text": [
      "     Grupo  Datos\n",
      "0  Grupo A    5.8\n",
      "1  Grupo A    3.1\n",
      "2  Grupo A    7.2\n",
      "3  Grupo A    2.6\n",
      "4  Grupo A    6.7\n",
      "Resultado de la prueba t:\n",
      "Estadístico t: -0.13233049790634502\n",
      "Valor p: 0.8977104712378924\n",
      "No se encontraron diferencias significativas entre los dos grupos.\n",
      "\n",
      "Prueba de normalidad (Shapiro-Wilk):\n",
      "Grupo A: Estadístico = 0.9267433887989509 , Valor p = 0.5551977358822437\n",
      "Grupo B: Estadístico = 0.8947595168505995 , Valor p = 0.34388057905496705\n",
      "El Grupo A parece tener distribución normal.\n",
      "El Grupo B parece tener distribución normal.\n"
     ]
    },
    {
     "name": "stderr",
     "output_type": "stream",
     "text": [
      "C:\\Users\\HP\\AppData\\Local\\Temp\\ipykernel_16072\\3312599476.py:51: FutureWarning: \n",
      "\n",
      "`shade` is now deprecated in favor of `fill`; setting `fill=True`.\n",
      "This will become an error in seaborn v0.14.0; please update your code.\n",
      "\n",
      "  sns.kdeplot(grupo_a, label=\"Grupo A\", shade=True)\n",
      "C:\\Users\\HP\\AppData\\Local\\Temp\\ipykernel_16072\\3312599476.py:52: FutureWarning: \n",
      "\n",
      "`shade` is now deprecated in favor of `fill`; setting `fill=True`.\n",
      "This will become an error in seaborn v0.14.0; please update your code.\n",
      "\n",
      "  sns.kdeplot(grupo_b, label=\"Grupo B\", shade=True)\n"
     ]
    },
    {
     "data": {
      "image/png": "[encoded data removed]",
      "text/plain": [
       "<Figure size 640x480 with 1 Axes>"
      ]
     },
     "metadata": {},
     "output_type": "display_data"
    },
    {
     "name": "stdout",
     "output_type": "stream",
     "text": [
      "\n",
      "Prueba Mann-Whitney U:\n",
      "Estadístico U: 17.0\n",
      "Valor p: 0.9372294372294373\n",
      "No hay diferencias significativas en las medianas entre Grupo A y Grupo B.\n"
     ]
    }
   ],
   "source": [
    "\n",
    "\n",
    "### Ejercicio 2: Comparación de medianas ###\n",
    "\n",
    "# a) Pruebas de normalidad para los dos grupos\n",
    "# Prueba de Shapiro-Wilk para determinar si los datos son normales\n",
    "normalidad_a = stats.shapiro(grupo_a)\n",
    "normalidad_b = stats.shapiro(grupo_b)\n",
    "\n",
    "print(\"\\nPrueba de normalidad (Shapiro-Wilk):\")\n",
    "print(\"Grupo A: Estadístico =\", normalidad_a.statistic, \", Valor p =\", normalidad_a.pvalue)\n",
    "print(\"Grupo B: Estadístico =\", normalidad_b.statistic, \", Valor p =\", normalidad_b.pvalue)\n",
    "\n",
    "print(\"El Grupo A tiene una distribución normal a un nivel de significancia de 0.05\")\n",
    "print(\"El Grupo B parece tener distribución normal.\")\n",
    "\n",
    "# Gráficos para observar la distribución\n",
    "sns.kdeplot(grupo_a, label=\"Grupo A\", shade=True)\n",
    "sns.kdeplot(grupo_b, label=\"Grupo B\", shade=True)\n",
    "plt.title(\"Distribución de las calificaciones\")\n",
    "plt.xlabel(\"Calificaciones\")\n",
    "plt.ylabel(\"Densidad\")\n",
    "plt.legend()\n",
    "plt.show()\n",
    "\n",
    "# b) Prueba de hipótesis no paramétrica (Mann-Whitney U Test)\n",
    "# Usamos esta prueba porque no asumimos normalidad en los datos.\n",
    "mann_whitney_result = stats.mannwhitneyu(grupo_a, grupo_b, alternative='two-sided')\n",
    "\n",
    "print(\"\\nPrueba Mann-Whitney U:\")\n",
    "print(\"Estadístico U:\", mann_whitney_result.statistic)\n",
    "print(\"Valor p:\", mann_whitney_result.pvalue)\n",
    "\n",
    "if mann_whitney_result.pvalue < 0.05:\n",
    "    print(\"Hay una diferencia significativa en las medianas entre Grupo A y Grupo B.\")\n",
    "else:\n",
    "    print(\"No hay diferencias significativas en las medianas entre Grupo A y Grupo B.\")\n"
   ]
  },
  {
   "cell_type": "code",
   "execution_count": null,
   "id": "f48157c0-5f1a-472a-90bf-9e16703ecb5c",
   "metadata": {},
   "outputs": [],
   "source": []
  }
 ],
 "metadata": {
  "kernelspec": {
   "display_name": "Python 3 (ipykernel)",
   "language": "python",
   "name": "python3"
  },
  "language_info": {
   "codemirror_mode": {
    "name": "ipython",
    "version": 3
   },
   "file_extension": ".py",
   "mimetype": "text/x-python",
   "name": "python",
   "nbconvert_exporter": "python",
   "pygments_lexer": "ipython3",
   "version": "3.12.7"
  }
 },
 "nbformat": 4,
 "nbformat_minor": 5
}
